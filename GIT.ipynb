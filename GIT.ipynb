{
  "nbformat": 4,
  "nbformat_minor": 0,
  "metadata": {
    "colab": {
      "name": "GIT.ipynb",
      "provenance": [],
      "collapsed_sections": [],
      "authorship_tag": "ABX9TyPEshW/gz80yxKuEV9bzUaO",
      "include_colab_link": true
    },
    "kernelspec": {
      "name": "python3",
      "display_name": "Python 3"
    },
    "language_info": {
      "name": "python"
    }
  },
  "cells": [
    {
      "cell_type": "markdown",
      "metadata": {
        "id": "view-in-github",
        "colab_type": "text"
      },
      "source": [
        "<a href=\"https://colab.research.google.com/github/Mauregina/git_general/blob/main/GIT.ipynb\" target=\"_parent\"><img src=\"https://colab.research.google.com/assets/colab-badge.svg\" alt=\"Open In Colab\"/></a>"
      ]
    },
    {
      "cell_type": "markdown",
      "metadata": {
        "id": "DZ4SORmH1v-B"
      },
      "source": [
        "**GUIA PARA UTILIZAÇÃO DO GIT**\n",
        "---\n"
      ]
    },
    {
      "cell_type": "markdown",
      "metadata": {
        "id": "enBjptUA00b_"
      },
      "source": [
        "# Novo repositório no GIT"
      ]
    },
    {
      "cell_type": "code",
      "metadata": {
        "id": "APCkv6md0y0i"
      },
      "source": [
        "git init # inicializar o GIT no projeto\n",
        "git status"
      ],
      "execution_count": null,
      "outputs": []
    },
    {
      "cell_type": "markdown",
      "metadata": {
        "id": "QuI5Sdp22gYt"
      },
      "source": [
        "Ignorar Arquivos / Diretórios\n",
        "\n",
        "Criar arquivo **.gitignore** no diretorio do projeto"
      ]
    },
    {
      "cell_type": "code",
      "metadata": {
        "id": "SceeiuYFqORz"
      },
      "source": [
        "touch .gitignore # cria arquivo\n",
        "echo \"__pycache__/\" > .gitignore && echo \".idea/\" > .gitignore && echo \"*.o\" > .gitignore\n",
        "\n",
        "git rm -r --cached .idea -f #remove arquivos que estao no cache"
      ],
      "execution_count": null,
      "outputs": []
    },
    {
      "cell_type": "markdown",
      "metadata": {
        "id": "9lKZjQPz14kL"
      },
      "source": [
        "# Preparar arquivo para ser submetido ao repositorio"
      ]
    },
    {
      "cell_type": "code",
      "metadata": {
        "id": "vt9i6aiw2IlN"
      },
      "source": [
        "#Inicia rastreamento do arquivo pelo GIT (tracked) ou Alterar status do arquivo ja rastreado que foi modificado recentemente de (modified) para (tracked)\n",
        "git add nome_arquivo\n",
        "git add . #não recomendado\n",
        "\n",
        "#Alterar status do arquivo de (tracked) para (staged)\n",
        "git commit -sm \"msg\""
      ],
      "execution_count": null,
      "outputs": []
    },
    {
      "cell_type": "markdown",
      "metadata": {
        "id": "W818-bly6NW2"
      },
      "source": [
        "Verificar diferença entre último arquivo comitado (staged) e arquivo modificado (modified)\n"
      ]
    },
    {
      "cell_type": "code",
      "metadata": {
        "id": "1EBh03SS6UZF"
      },
      "source": [
        "git diff --staged"
      ],
      "execution_count": null,
      "outputs": []
    },
    {
      "cell_type": "markdown",
      "metadata": {
        "id": "5YKx3zMgCDUy"
      },
      "source": [
        "#Repositório remoto (GIT Hub)"
      ]
    },
    {
      "cell_type": "markdown",
      "metadata": {
        "id": "Cx8zVyOI1Hqn"
      },
      "source": [
        "Configurar usuario"
      ]
    },
    {
      "cell_type": "code",
      "metadata": {
        "id": "VHZDE8SU1JQu"
      },
      "source": [
        "git config user.name \"Mauregina\"\n",
        "git config user.mail \"mauraregina@gmail.com\""
      ],
      "execution_count": null,
      "outputs": []
    },
    {
      "cell_type": "markdown",
      "metadata": {
        "id": "5CaV52QZoQiW"
      },
      "source": [
        "Registrar nosso repositório no GIT HUB localmente"
      ]
    },
    {
      "cell_type": "code",
      "metadata": {
        "id": "xrlE-5-pI-XO"
      },
      "source": [
        "git remote add origin git@github.com:Mauregina/Mercado.git\n",
        "\n",
        "git push -u origin master\n",
        "\n",
        "#se GIT solicitar password, deve ser utilizado token de acesso gerado pelo proprio Git Hub.\n",
        "#settings -> developer settings -> personal access token -> generate new token (marcar as opções Repo / Admin)\n",
        "\n",
        "git config credential.helper store "
      ],
      "execution_count": null,
      "outputs": []
    },
    {
      "cell_type": "markdown",
      "metadata": {
        "id": "rNgcC8zJPuSy"
      },
      "source": [
        "Alterar nome do repositório remoto "
      ]
    },
    {
      "cell_type": "code",
      "metadata": {
        "id": "HvJxGYjLPy_R"
      },
      "source": [
        "#alterar primeiro nome do repositorio no GIT Hub\n",
        "# novo nome -> https://github.com/Mauregina/projeto_banco_py.git\n",
        "\n",
        "#altera nome do repositorio na maquina local\n",
        "git remote set-url origin https://github.com/Mauregina/projeto_banco_py.git"
      ],
      "execution_count": null,
      "outputs": []
    },
    {
      "cell_type": "markdown",
      "metadata": {
        "id": "tgroOt8SlDg2"
      },
      "source": [
        "Baixar atualizações de um repositório remoto e aplicá-las no repositório local "
      ]
    },
    {
      "cell_type": "code",
      "metadata": {
        "id": "wynoucQ5k6lv"
      },
      "source": [
        "git fetch # Baixa atualizações de um repositório remoto\n",
        "git rebase # Aplica as atualizações no repositório local\n",
        "\n",
        "#ou\n",
        "\n",
        "git pull origin master# Baixa atualizações e as aplica no repositório local"
      ],
      "execution_count": null,
      "outputs": []
    },
    {
      "cell_type": "markdown",
      "metadata": {
        "id": "asr1BuLMDRwD"
      },
      "source": [
        "#Desfazer/corrigir coisas"
      ]
    },
    {
      "cell_type": "code",
      "metadata": {
        "id": "Xbq4m1jODVp1"
      },
      "source": [
        "# Editar commits mais antigos - ANTES DO PUSH:\n",
        "\n",
        "# Você vai precisar fazer um rebase do seu histórico, que é mais complexo que o processo anterior:\n",
        "\n",
        "git rebase -i HEAD~3 # Mostra a lista dos 3 últimos commits\n",
        "\n",
        "# A lista vai ser mais ou menos assim:\n",
        "\n",
        "# pick e499d89 Delete CNAME\n",
        "# pick 0c39034 Better README\n",
        "# pick f7fde4a Change the commit message but push the same commit.\n",
        "\n",
        "# # Rebase 9fdb3bd..f7fde4a onto 9fdb3bd\n",
        "# #\n",
        "# # Commands:\n",
        "# #  p, pick = use commit\n",
        "# #  r, reword = use commit, but edit the commit message\n",
        "# #  e, edit = use commit, but stop for amending\n",
        "# #  s, squash = use commit, but meld into previous commit\n",
        "# #  f, fixup = like \"squash\", but discard this commit's log message\n",
        "# #  x, exec = run command (the rest of the line) using shell\n",
        "# #\n",
        "# # These lines can be re-ordered; they are executed from top to bottom.\n",
        "# #\n",
        "# # If you remove a line here THAT COMMIT WILL BE LOST.\n",
        "# #\n",
        "# # However, if you remove everything, the rebase will be aborted.\n",
        "# #\n",
        "# # Note that empty commits are commented out\n",
        "\n",
        "#------------------------------------------------------------------------------\n",
        "# Altere pick para reword nos commits que você quer editar a mensagem:\n",
        "\n",
        "pick e499d89 Delete CNAME\n",
        "reword 0c39034 Better README\n",
        "reword f7fde4a Change the commit message but push the same commit.\n",
        "\n",
        "#------------------------------------------------------------------------------\n",
        "# Salve e feche o arquivo. Depois disso o git vai abrir cada um dos commits marcados com reword para edição. Edite as mensagens, salve e feche."
      ],
      "execution_count": null,
      "outputs": []
    },
    {
      "cell_type": "code",
      "metadata": {
        "id": "9sr0ubusD1GO"
      },
      "source": [
        "# Editar o último commit local - ANTES DO PUSH:\n",
        "git commit --amend \n",
        "\n",
        "# vai abrir seu editor, com o conteúdo da mensagem do último commit e você pode editar tranquilamente."
      ],
      "execution_count": null,
      "outputs": []
    },
    {
      "cell_type": "markdown",
      "metadata": {
        "id": "F4CJsUcP1BHw"
      },
      "source": [
        "Desfazer COMMIT"
      ]
    },
    {
      "cell_type": "code",
      "metadata": {
        "id": "HKjKBxJ70wPP"
      },
      "source": [
        "#desfazer ultimo COMMIT. Porém, gera um novo commit com alteracao\n",
        "\n",
        "git revert id_commit #abrira editor. Devo digitar control+o+enter control+x"
      ],
      "execution_count": null,
      "outputs": []
    },
    {
      "cell_type": "code",
      "metadata": {
        "id": "gFwuPESryvQI"
      },
      "source": [
        "#desfazer ultimo COMMIT (apaga ultimo commit)\n",
        "git reset HEAD-1"
      ],
      "execution_count": null,
      "outputs": []
    },
    {
      "cell_type": "markdown",
      "metadata": {
        "id": "aA6rRdM_y3cJ"
      },
      "source": [
        "Desfazer alterações em arquivo com status = modified vermelho (não foi dado ADD)"
      ]
    },
    {
      "cell_type": "code",
      "metadata": {
        "id": "TZbIDtsOxWkR"
      },
      "source": [
        "#desfazer alterações de um arquivo \n",
        "git checkout -- arquivo.txt\n",
        "\n",
        "#desfazer alterações feitas em todos arquivos \n",
        "git checkout --"
      ],
      "execution_count": null,
      "outputs": []
    },
    {
      "cell_type": "markdown",
      "metadata": {
        "id": "tGCHCuQBzhc3"
      },
      "source": [
        "Desfazer alterações em arquivo com status = modified verde (foi dado ADD mas falta commit)"
      ]
    },
    {
      "cell_type": "code",
      "metadata": {
        "id": "KImhIynJxsN3"
      },
      "source": [
        "#desfazer alterações de um arquivo \n",
        "git checkout HEAD -- arquivo.txt\n",
        "\n",
        "#desfazer alterações feitas em todos arquivos \n",
        "git checkout HEAD -- ."
      ],
      "execution_count": null,
      "outputs": []
    },
    {
      "cell_type": "markdown",
      "metadata": {
        "id": "hh3gZnQYqA78"
      },
      "source": [
        "#Branch"
      ]
    },
    {
      "cell_type": "code",
      "metadata": {
        "id": "wGF0LYWx3Ubq"
      },
      "source": [
        "# VISUALIZAR TODAS BRANCHES DO REMOTO\n",
        "git branch -r"
      ],
      "execution_count": null,
      "outputs": []
    },
    {
      "cell_type": "markdown",
      "metadata": {
        "id": "Lzjyp25LmypZ"
      },
      "source": [
        " base = ponto onde é criada o novo RAMO   \n",
        "\n",
        "          base RamoA         base RamoB\n",
        "----------------------|--------------------------------| ----------------------------------------------------> RAMO PRINCIPAL (MASTER) main.html\n",
        "              \n",
        "              \n",
        "\n",
        "                ------------> ramoA (DEV 1) main.html/ ramoA.html\n",
        "\n",
        "                                   ------------> ramoB (DEV 2) main.html/ ramoB.html\n",
        "                               \n"
      ]
    },
    {
      "cell_type": "code",
      "metadata": {
        "id": "ptvJ5xEhqCRq"
      },
      "source": [
        "git branch # lista branches\n",
        "\n",
        "# CRIAR BRANCH\n",
        "\n",
        "git branch ramoA # cria branch\n",
        "git checkout ramoA # muda para branch \n",
        "\n",
        "#ou\n",
        "\n",
        "git checkout -b ramoB # cria branch e muda para esta branch "
      ],
      "execution_count": null,
      "outputs": []
    },
    {
      "cell_type": "code",
      "metadata": {
        "id": "IcTM5rKNrLGE"
      },
      "source": [
        "# DELETAR BRANCH\n",
        "\n",
        "git branch -d ramoA \n",
        "# Nesse caso, a branch ramoA não foi mergeada à branch principal. Por isso, git vai perguntar se deseja deleta-la mesmo assim. Caso positivo, será necessário usar o seguinte comando:\n",
        "git branch -D ramoA \n",
        "\n",
        "# DELETAR BRANCH REMOTO\n",
        "git push origin --delete <branch>\n",
        "\n",
        "# ALTERAR NOME BRANCH LOCAL\n",
        "git branch -m ramoA ramoA_novonome\n",
        "\n",
        "# ALTERAR NOME BRANCH REMOTA----------------------------------------------------\n",
        "# Delete the old branch on remote - where <remote> is, for example, origin\n",
        "git push <remote> --delete <old_name>\n",
        "\n",
        "# Or shorter way to delete remote branch [:]\n",
        "git push <remote> :<old_name>\n",
        "\n",
        "# Prevent git from using the old name when pushing in the next step.\n",
        "# Otherwise, git will use the old upstream name instead of <new_name>.\n",
        "git branch --unset-upstream <new_name>\n",
        "\n",
        "# Push the new branch to remote\n",
        "git push <remote> <new_name>\n",
        "\n",
        "# Reset the upstream branch for the new_name local branch\n",
        "git push <remote> -u <new_name>\n",
        "# ------------------------------------------------------------------------------"
      ],
      "execution_count": null,
      "outputs": []
    },
    {
      "cell_type": "code",
      "metadata": {
        "id": "LuzYQ5QoRW5-"
      },
      "source": [
        "# MERGEAR ramoB à branch principal \n",
        "\n",
        "#1º -> Ir até branch master\n",
        "git checkout master\n",
        "\n",
        "#2º -> \n",
        "git merge ramoB\n",
        "\n",
        "# gera novo commit"
      ],
      "execution_count": null,
      "outputs": []
    },
    {
      "cell_type": "markdown",
      "metadata": {
        "id": "CzQp7XR9RZvN"
      },
      "source": [
        "Resultado após MERGEAR ramoB à branch principal:\n",
        "\n",
        "                          base ramoB         Ponto onde ocorreu merge = ponto onde branch principal está\n",
        "-------------------------------------------------------| -----------------------------------------------------|> RAMO PRINCIPAL (MASTER) main.html/ ramoB.html\n",
        "\n",
        "                                   ------------> ramoB (DEV 2) main.html/ ramoB.html\n",
        "                               \n"
      ]
    },
    {
      "cell_type": "code",
      "metadata": {
        "id": "F9MKof9TbepI"
      },
      "source": [
        "# REBASE ramoB à branch principal\n",
        "\n",
        "#1º -> Ir até branch master\n",
        "git checkout master\n",
        "\n",
        "#2º -> \n",
        "git rebase ramoB"
      ],
      "execution_count": null,
      "outputs": []
    },
    {
      "cell_type": "markdown",
      "metadata": {
        "id": "q3UwDOKwb0yQ"
      },
      "source": [
        "Resultado após REBASE ramoB à branch principal:\n",
        "\n",
        "                          base ramoB = ponto onde ocorrerá rebase, apesar de branch principal estar mais adiantada\n",
        "-------------------------------------------------------| ------------------------------------------------------|> RAMO PRINCIPAL (MASTER) main.html/ ramoB.html\n",
        "\n",
        "                                   ------------> ramoB (DEV 2) main.html/ ramoB.html\n",
        "                               \n"
      ]
    },
    {
      "cell_type": "markdown",
      "metadata": {
        "id": "UF0BGLMltmeh"
      },
      "source": [
        "#Log"
      ]
    },
    {
      "cell_type": "code",
      "metadata": {
        "id": "AB1kXIK_8xbn"
      },
      "source": [
        "git log \n",
        "\n",
        "#digitar tecla Q p/ sair da tela\n",
        "\n",
        "git log -1\n",
        "\n",
        "git log --oneline\n",
        "\n",
        "git log --since=\"2 days ago\"\n",
        "\n",
        "git help log"
      ],
      "execution_count": null,
      "outputs": []
    },
    {
      "cell_type": "markdown",
      "metadata": {
        "id": "P_MF7Rf18uQJ"
      },
      "source": [
        "# Outros"
      ]
    },
    {
      "cell_type": "code",
      "metadata": {
        "id": "KZ0WKohO23ZE"
      },
      "source": [
        "git mv programa1.html programa2.html #RENOMEAR arquivo. Sera necessario comitar a mudanca"
      ],
      "execution_count": null,
      "outputs": []
    },
    {
      "cell_type": "code",
      "metadata": {
        "id": "JbJnI6CbFNW4"
      },
      "source": [
        "gitk #visualizar de forma mais didatica"
      ],
      "execution_count": null,
      "outputs": []
    },
    {
      "cell_type": "code",
      "metadata": {
        "id": "fN2YyeuvFDTb"
      },
      "source": [
        "#cria um atalho para os comandos\n",
        "git config --global alias.co 'commit -vs' "
      ],
      "execution_count": null,
      "outputs": []
    },
    {
      "cell_type": "code",
      "metadata": {
        "id": "fUpEGkw44Wvb"
      },
      "source": [
        "git rm arquivo.txt #REMOVER arquivo. Sera necessario comitar a mudanca"
      ],
      "execution_count": null,
      "outputs": []
    }
  ]
}